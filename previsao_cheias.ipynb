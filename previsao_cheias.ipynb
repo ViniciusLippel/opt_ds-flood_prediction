{
 "cells": [
  {
   "cell_type": "markdown",
   "metadata": {},
   "source": [
    "### Previsão de Cheias\n",
    "Aluno: Vinícius Marzall Lippel"
   ]
  },
  {
   "cell_type": "markdown",
   "metadata": {},
   "source": [
    "Primeiramente importamos as bibliotecas que serão necessárias para realizarmos a análise e previsão:"
   ]
  },
  {
   "cell_type": "code",
   "execution_count": 19,
   "metadata": {},
   "outputs": [],
   "source": [
    "import csv\n",
    "import pandas as pd\n",
    "import numpy as np\n",
    "import matplotlib.pyplot as plt\n",
    "from functools import reduce\n",
    "from sklearn.model_selection import train_test_split\n",
    "from sklearn.linear_model import LinearRegression\n",
    "from sklearn.metrics import r2_score "
   ]
  },
  {
   "cell_type": "code",
   "execution_count": 3,
   "metadata": {},
   "outputs": [],
   "source": [
    "txt_file_names = {\n",
    "    'chuva-taio':'83050000TAIÓ_2962005-1442014-chuva',\n",
    "    'nivel-taio':'83050000TAIÓ_2962005-1442014-nível',\n",
    "    'chuva-ituporanga':'83250000ITUPORANGA_3172005-1442014-chuva',\n",
    "    'nivel-ituporanga':'83250000ITUPORANGA_2962005-1032014-nível',\n",
    "    'chuva-rio_do_sul':'83300200RIODOSUL-NOVO_2862005-1442014-Chuva',\n",
    "    'nivel-rio_do_sul':'83300200RIODOSUL-NOVO_2982005-1422014 -nível'\n",
    "}"
   ]
  },
  {
   "cell_type": "markdown",
   "metadata": {},
   "source": [
    "Transformamos os arquivos .txt em .csv. É possível criar um pandas dataframe diretametente de um arquivo txt, no entanto desta maneira é mais fácil separarmos hora e data, além de ja deixarmos os dados organizados em arquivos csv, facilitando próximos projetos."
   ]
  },
  {
   "cell_type": "code",
   "execution_count": 4,
   "metadata": {},
   "outputs": [],
   "source": [
    "for csv_name, txt_name in txt_file_names.items():\n",
    "    with open(f'txt/{txt_name}.txt', 'r') as in_file:\n",
    "        next(in_file)\n",
    "        stripped = (line.strip() for line in in_file)\n",
    "        lines = (line.split() for line in stripped if line)\n",
    "        with open(f'csv/{csv_name}.csv', 'w') as out_file:\n",
    "            writer = csv.writer(out_file)\n",
    "            if 'chuva' in csv_name:\n",
    "                writer.writerow(('data', 'hora', 'chuva (mm)'))\n",
    "            elif 'nivel' in csv_name:\n",
    "                writer.writerow(('data', 'hora', 'nivel (cm)'))\n",
    "            writer.writerows(lines)"
   ]
  },
  {
   "cell_type": "markdown",
   "metadata": {},
   "source": [
    "Criamos então um dataframe para cada arquivo"
   ]
  },
  {
   "cell_type": "code",
   "execution_count": 5,
   "metadata": {},
   "outputs": [],
   "source": [
    "chuva_taio = pd.read_csv('csv/chuva-taio.csv')\n",
    "nivel_taio = pd.read_csv('csv/nivel-taio.csv')\n",
    "chuva_ituporanga = pd.read_csv('csv/chuva-ituporanga.csv')\n",
    "nivel_ituporanga = pd.read_csv('csv/nivel-ituporanga.csv')\n",
    "chuva_rio_do_sul = pd.read_csv('csv/chuva-rio_do_sul.csv')\n",
    "nivel_rio_do_sul = pd.read_csv('csv/nivel-rio_do_sul.csv')"
   ]
  },
  {
   "cell_type": "markdown",
   "metadata": {},
   "source": [
    "Podemos ver que temos vários dados nulos"
   ]
  },
  {
   "cell_type": "code",
   "execution_count": 6,
   "metadata": {},
   "outputs": [
    {
     "data": {
      "text/html": [
       "<div>\n",
       "<style scoped>\n",
       "    .dataframe tbody tr th:only-of-type {\n",
       "        vertical-align: middle;\n",
       "    }\n",
       "\n",
       "    .dataframe tbody tr th {\n",
       "        vertical-align: top;\n",
       "    }\n",
       "\n",
       "    .dataframe thead th {\n",
       "        text-align: right;\n",
       "    }\n",
       "</style>\n",
       "<table border=\"1\" class=\"dataframe\">\n",
       "  <thead>\n",
       "    <tr style=\"text-align: right;\">\n",
       "      <th></th>\n",
       "      <th>data</th>\n",
       "      <th>hora</th>\n",
       "      <th>chuva (mm)</th>\n",
       "    </tr>\n",
       "  </thead>\n",
       "  <tbody>\n",
       "    <tr>\n",
       "      <th>0</th>\n",
       "      <td>29/06/2005</td>\n",
       "      <td>00:00:00</td>\n",
       "      <td>NaN</td>\n",
       "    </tr>\n",
       "    <tr>\n",
       "      <th>1</th>\n",
       "      <td>29/06/2005</td>\n",
       "      <td>01:00:00</td>\n",
       "      <td>NaN</td>\n",
       "    </tr>\n",
       "    <tr>\n",
       "      <th>2</th>\n",
       "      <td>29/06/2005</td>\n",
       "      <td>02:00:00</td>\n",
       "      <td>NaN</td>\n",
       "    </tr>\n",
       "    <tr>\n",
       "      <th>3</th>\n",
       "      <td>29/06/2005</td>\n",
       "      <td>03:00:00</td>\n",
       "      <td>NaN</td>\n",
       "    </tr>\n",
       "    <tr>\n",
       "      <th>4</th>\n",
       "      <td>29/06/2005</td>\n",
       "      <td>04:00:00</td>\n",
       "      <td>NaN</td>\n",
       "    </tr>\n",
       "  </tbody>\n",
       "</table>\n",
       "</div>"
      ],
      "text/plain": [
       "         data      hora  chuva (mm)\n",
       "0  29/06/2005  00:00:00         NaN\n",
       "1  29/06/2005  01:00:00         NaN\n",
       "2  29/06/2005  02:00:00         NaN\n",
       "3  29/06/2005  03:00:00         NaN\n",
       "4  29/06/2005  04:00:00         NaN"
      ]
     },
     "execution_count": 6,
     "metadata": {},
     "output_type": "execute_result"
    }
   ],
   "source": [
    "chuva_taio.head()"
   ]
  },
  {
   "cell_type": "code",
   "execution_count": 7,
   "metadata": {},
   "outputs": [
    {
     "data": {
      "text/html": [
       "<div>\n",
       "<style scoped>\n",
       "    .dataframe tbody tr th:only-of-type {\n",
       "        vertical-align: middle;\n",
       "    }\n",
       "\n",
       "    .dataframe tbody tr th {\n",
       "        vertical-align: top;\n",
       "    }\n",
       "\n",
       "    .dataframe thead th {\n",
       "        text-align: right;\n",
       "    }\n",
       "</style>\n",
       "<table border=\"1\" class=\"dataframe\">\n",
       "  <thead>\n",
       "    <tr style=\"text-align: right;\">\n",
       "      <th></th>\n",
       "      <th>data</th>\n",
       "      <th>hora</th>\n",
       "      <th>chuva (mm)</th>\n",
       "    </tr>\n",
       "  </thead>\n",
       "  <tbody>\n",
       "    <tr>\n",
       "      <th>0</th>\n",
       "      <td>31/07/2005</td>\n",
       "      <td>01:00:00</td>\n",
       "      <td>NaN</td>\n",
       "    </tr>\n",
       "    <tr>\n",
       "      <th>1</th>\n",
       "      <td>31/07/2005</td>\n",
       "      <td>02:00:00</td>\n",
       "      <td>NaN</td>\n",
       "    </tr>\n",
       "    <tr>\n",
       "      <th>2</th>\n",
       "      <td>31/07/2005</td>\n",
       "      <td>03:00:00</td>\n",
       "      <td>NaN</td>\n",
       "    </tr>\n",
       "    <tr>\n",
       "      <th>3</th>\n",
       "      <td>31/07/2005</td>\n",
       "      <td>04:00:00</td>\n",
       "      <td>NaN</td>\n",
       "    </tr>\n",
       "    <tr>\n",
       "      <th>4</th>\n",
       "      <td>31/07/2005</td>\n",
       "      <td>05:00:00</td>\n",
       "      <td>NaN</td>\n",
       "    </tr>\n",
       "  </tbody>\n",
       "</table>\n",
       "</div>"
      ],
      "text/plain": [
       "         data      hora  chuva (mm)\n",
       "0  31/07/2005  01:00:00         NaN\n",
       "1  31/07/2005  02:00:00         NaN\n",
       "2  31/07/2005  03:00:00         NaN\n",
       "3  31/07/2005  04:00:00         NaN\n",
       "4  31/07/2005  05:00:00         NaN"
      ]
     },
     "execution_count": 7,
     "metadata": {},
     "output_type": "execute_result"
    }
   ],
   "source": [
    "chuva_ituporanga.head()"
   ]
  },
  {
   "cell_type": "markdown",
   "metadata": {},
   "source": [
    "Ao invés de tratarmos os dados separadamente, juntaremos os dados em um único dataframe. Para tal daremos um merge em todos os dataframes utilizando como base a data e hora. Caso um dos dataframes não possua a linha para dada data e hora, a linha equivalente nos outros dataframes também não serão adicionadas, já trantando problemas de incompatibilidade. Após juntarmos todas as tabelas, utilizamos a função dropna() para eliminarmos todas as linhas que contenham pelo menos um valor nulo."
   ]
  },
  {
   "cell_type": "code",
   "execution_count": 8,
   "metadata": {},
   "outputs": [
    {
     "data": {
      "text/html": [
       "<div>\n",
       "<style scoped>\n",
       "    .dataframe tbody tr th:only-of-type {\n",
       "        vertical-align: middle;\n",
       "    }\n",
       "\n",
       "    .dataframe tbody tr th {\n",
       "        vertical-align: top;\n",
       "    }\n",
       "\n",
       "    .dataframe thead th {\n",
       "        text-align: right;\n",
       "    }\n",
       "</style>\n",
       "<table border=\"1\" class=\"dataframe\">\n",
       "  <thead>\n",
       "    <tr style=\"text-align: right;\">\n",
       "      <th></th>\n",
       "      <th>data</th>\n",
       "      <th>hora</th>\n",
       "      <th>chuva-taio</th>\n",
       "      <th>nivel-taio</th>\n",
       "      <th>chuva-ituporanga</th>\n",
       "      <th>nivel-ituporanga</th>\n",
       "      <th>chuva-rio_do_sul</th>\n",
       "      <th>nivel-rio_do_sul</th>\n",
       "    </tr>\n",
       "  </thead>\n",
       "  <tbody>\n",
       "    <tr>\n",
       "      <th>678</th>\n",
       "      <td>31/07/2005</td>\n",
       "      <td>21:00:00</td>\n",
       "      <td>0.0</td>\n",
       "      <td>98.0</td>\n",
       "      <td>3.0</td>\n",
       "      <td>30.0</td>\n",
       "      <td>0.0</td>\n",
       "      <td>171.0</td>\n",
       "    </tr>\n",
       "    <tr>\n",
       "      <th>679</th>\n",
       "      <td>31/07/2005</td>\n",
       "      <td>22:00:00</td>\n",
       "      <td>0.0</td>\n",
       "      <td>98.0</td>\n",
       "      <td>12.0</td>\n",
       "      <td>39.0</td>\n",
       "      <td>0.0</td>\n",
       "      <td>171.0</td>\n",
       "    </tr>\n",
       "    <tr>\n",
       "      <th>680</th>\n",
       "      <td>31/07/2005</td>\n",
       "      <td>23:00:00</td>\n",
       "      <td>0.0</td>\n",
       "      <td>97.0</td>\n",
       "      <td>19.0</td>\n",
       "      <td>59.0</td>\n",
       "      <td>0.0</td>\n",
       "      <td>171.0</td>\n",
       "    </tr>\n",
       "    <tr>\n",
       "      <th>681</th>\n",
       "      <td>01/08/2005</td>\n",
       "      <td>00:00:00</td>\n",
       "      <td>0.0</td>\n",
       "      <td>97.0</td>\n",
       "      <td>5.0</td>\n",
       "      <td>82.0</td>\n",
       "      <td>0.0</td>\n",
       "      <td>170.0</td>\n",
       "    </tr>\n",
       "    <tr>\n",
       "      <th>684</th>\n",
       "      <td>01/08/2005</td>\n",
       "      <td>03:00:00</td>\n",
       "      <td>0.0</td>\n",
       "      <td>97.0</td>\n",
       "      <td>1.0</td>\n",
       "      <td>27.0</td>\n",
       "      <td>0.0</td>\n",
       "      <td>170.0</td>\n",
       "    </tr>\n",
       "    <tr>\n",
       "      <th>686</th>\n",
       "      <td>01/08/2005</td>\n",
       "      <td>05:00:00</td>\n",
       "      <td>0.0</td>\n",
       "      <td>97.0</td>\n",
       "      <td>1.0</td>\n",
       "      <td>27.0</td>\n",
       "      <td>0.0</td>\n",
       "      <td>169.0</td>\n",
       "    </tr>\n",
       "    <tr>\n",
       "      <th>688</th>\n",
       "      <td>01/08/2005</td>\n",
       "      <td>07:00:00</td>\n",
       "      <td>0.0</td>\n",
       "      <td>96.0</td>\n",
       "      <td>1.0</td>\n",
       "      <td>27.0</td>\n",
       "      <td>0.0</td>\n",
       "      <td>169.0</td>\n",
       "    </tr>\n",
       "    <tr>\n",
       "      <th>689</th>\n",
       "      <td>01/08/2005</td>\n",
       "      <td>08:00:00</td>\n",
       "      <td>0.0</td>\n",
       "      <td>96.0</td>\n",
       "      <td>2.0</td>\n",
       "      <td>30.0</td>\n",
       "      <td>0.0</td>\n",
       "      <td>168.0</td>\n",
       "    </tr>\n",
       "    <tr>\n",
       "      <th>690</th>\n",
       "      <td>01/08/2005</td>\n",
       "      <td>09:00:00</td>\n",
       "      <td>0.0</td>\n",
       "      <td>96.0</td>\n",
       "      <td>12.0</td>\n",
       "      <td>39.0</td>\n",
       "      <td>0.0</td>\n",
       "      <td>169.0</td>\n",
       "    </tr>\n",
       "    <tr>\n",
       "      <th>691</th>\n",
       "      <td>01/08/2005</td>\n",
       "      <td>10:00:00</td>\n",
       "      <td>0.0</td>\n",
       "      <td>95.0</td>\n",
       "      <td>19.0</td>\n",
       "      <td>59.0</td>\n",
       "      <td>0.0</td>\n",
       "      <td>168.0</td>\n",
       "    </tr>\n",
       "  </tbody>\n",
       "</table>\n",
       "</div>"
      ],
      "text/plain": [
       "           data      hora  chuva-taio  nivel-taio  chuva-ituporanga  \\\n",
       "678  31/07/2005  21:00:00         0.0        98.0               3.0   \n",
       "679  31/07/2005  22:00:00         0.0        98.0              12.0   \n",
       "680  31/07/2005  23:00:00         0.0        97.0              19.0   \n",
       "681  01/08/2005  00:00:00         0.0        97.0               5.0   \n",
       "684  01/08/2005  03:00:00         0.0        97.0               1.0   \n",
       "686  01/08/2005  05:00:00         0.0        97.0               1.0   \n",
       "688  01/08/2005  07:00:00         0.0        96.0               1.0   \n",
       "689  01/08/2005  08:00:00         0.0        96.0               2.0   \n",
       "690  01/08/2005  09:00:00         0.0        96.0              12.0   \n",
       "691  01/08/2005  10:00:00         0.0        95.0              19.0   \n",
       "\n",
       "     nivel-ituporanga  chuva-rio_do_sul  nivel-rio_do_sul  \n",
       "678              30.0               0.0             171.0  \n",
       "679              39.0               0.0             171.0  \n",
       "680              59.0               0.0             171.0  \n",
       "681              82.0               0.0             170.0  \n",
       "684              27.0               0.0             170.0  \n",
       "686              27.0               0.0             169.0  \n",
       "688              27.0               0.0             169.0  \n",
       "689              30.0               0.0             168.0  \n",
       "690              39.0               0.0             169.0  \n",
       "691              59.0               0.0             168.0  "
      ]
     },
     "execution_count": 8,
     "metadata": {},
     "output_type": "execute_result"
    }
   ],
   "source": [
    "data_frames = [chuva_taio, nivel_taio, chuva_ituporanga, nivel_ituporanga, chuva_rio_do_sul, nivel_rio_do_sul]\n",
    "df = reduce(lambda  left,right: pd.merge(left,right,on=['data','hora'], how='outer'), data_frames)\n",
    "# As colunas seguem a mesma ordem que passamos em data_frames\n",
    "df.columns = ['data', 'hora', 'chuva-taio', 'nivel-taio', 'chuva-ituporanga', 'nivel-ituporanga', 'chuva-rio_do_sul', 'nivel-rio_do_sul']\n",
    "\n",
    "# Removendo linhas com colunas nulas\n",
    "df = df.dropna()\n",
    "\n",
    "df.head(10)"
   ]
  },
  {
   "cell_type": "markdown",
   "metadata": {},
   "source": [
    "Podemos utilizar a função describe() para obtermos mais informações sobre o dataframe gerado."
   ]
  },
  {
   "cell_type": "code",
   "execution_count": 9,
   "metadata": {},
   "outputs": [
    {
     "data": {
      "text/html": [
       "<div>\n",
       "<style scoped>\n",
       "    .dataframe tbody tr th:only-of-type {\n",
       "        vertical-align: middle;\n",
       "    }\n",
       "\n",
       "    .dataframe tbody tr th {\n",
       "        vertical-align: top;\n",
       "    }\n",
       "\n",
       "    .dataframe thead th {\n",
       "        text-align: right;\n",
       "    }\n",
       "</style>\n",
       "<table border=\"1\" class=\"dataframe\">\n",
       "  <thead>\n",
       "    <tr style=\"text-align: right;\">\n",
       "      <th></th>\n",
       "      <th>chuva-taio</th>\n",
       "      <th>nivel-taio</th>\n",
       "      <th>chuva-ituporanga</th>\n",
       "      <th>nivel-ituporanga</th>\n",
       "      <th>chuva-rio_do_sul</th>\n",
       "      <th>nivel-rio_do_sul</th>\n",
       "    </tr>\n",
       "  </thead>\n",
       "  <tbody>\n",
       "    <tr>\n",
       "      <th>count</th>\n",
       "      <td>66957.000000</td>\n",
       "      <td>66957.000000</td>\n",
       "      <td>66957.000000</td>\n",
       "      <td>66957.000000</td>\n",
       "      <td>66957.000000</td>\n",
       "      <td>66957.000000</td>\n",
       "    </tr>\n",
       "    <tr>\n",
       "      <th>mean</th>\n",
       "      <td>0.041549</td>\n",
       "      <td>180.214735</td>\n",
       "      <td>0.053664</td>\n",
       "      <td>61.800499</td>\n",
       "      <td>0.055229</td>\n",
       "      <td>208.492316</td>\n",
       "    </tr>\n",
       "    <tr>\n",
       "      <th>std</th>\n",
       "      <td>0.475469</td>\n",
       "      <td>152.568151</td>\n",
       "      <td>0.758685</td>\n",
       "      <td>40.230845</td>\n",
       "      <td>0.543762</td>\n",
       "      <td>127.192194</td>\n",
       "    </tr>\n",
       "    <tr>\n",
       "      <th>min</th>\n",
       "      <td>0.000000</td>\n",
       "      <td>44.000000</td>\n",
       "      <td>0.000000</td>\n",
       "      <td>8.000000</td>\n",
       "      <td>0.000000</td>\n",
       "      <td>91.000000</td>\n",
       "    </tr>\n",
       "    <tr>\n",
       "      <th>25%</th>\n",
       "      <td>0.000000</td>\n",
       "      <td>83.000000</td>\n",
       "      <td>0.000000</td>\n",
       "      <td>37.000000</td>\n",
       "      <td>0.000000</td>\n",
       "      <td>127.000000</td>\n",
       "    </tr>\n",
       "    <tr>\n",
       "      <th>50%</th>\n",
       "      <td>0.000000</td>\n",
       "      <td>121.000000</td>\n",
       "      <td>0.000000</td>\n",
       "      <td>49.000000</td>\n",
       "      <td>0.000000</td>\n",
       "      <td>165.000000</td>\n",
       "    </tr>\n",
       "    <tr>\n",
       "      <th>75%</th>\n",
       "      <td>0.000000</td>\n",
       "      <td>210.000000</td>\n",
       "      <td>0.000000</td>\n",
       "      <td>70.000000</td>\n",
       "      <td>0.000000</td>\n",
       "      <td>239.000000</td>\n",
       "    </tr>\n",
       "    <tr>\n",
       "      <th>max</th>\n",
       "      <td>48.000000</td>\n",
       "      <td>975.000000</td>\n",
       "      <td>140.600000</td>\n",
       "      <td>512.000000</td>\n",
       "      <td>38.000000</td>\n",
       "      <td>1183.000000</td>\n",
       "    </tr>\n",
       "  </tbody>\n",
       "</table>\n",
       "</div>"
      ],
      "text/plain": [
       "         chuva-taio    nivel-taio  chuva-ituporanga  nivel-ituporanga  \\\n",
       "count  66957.000000  66957.000000      66957.000000      66957.000000   \n",
       "mean       0.041549    180.214735          0.053664         61.800499   \n",
       "std        0.475469    152.568151          0.758685         40.230845   \n",
       "min        0.000000     44.000000          0.000000          8.000000   \n",
       "25%        0.000000     83.000000          0.000000         37.000000   \n",
       "50%        0.000000    121.000000          0.000000         49.000000   \n",
       "75%        0.000000    210.000000          0.000000         70.000000   \n",
       "max       48.000000    975.000000        140.600000        512.000000   \n",
       "\n",
       "       chuva-rio_do_sul  nivel-rio_do_sul  \n",
       "count      66957.000000      66957.000000  \n",
       "mean           0.055229        208.492316  \n",
       "std            0.543762        127.192194  \n",
       "min            0.000000         91.000000  \n",
       "25%            0.000000        127.000000  \n",
       "50%            0.000000        165.000000  \n",
       "75%            0.000000        239.000000  \n",
       "max           38.000000       1183.000000  "
      ]
     },
     "execution_count": 9,
     "metadata": {},
     "output_type": "execute_result"
    }
   ],
   "source": [
    "df.describe()"
   ]
  },
  {
   "cell_type": "markdown",
   "metadata": {},
   "source": [
    "Através do método info() conseguimos garantir que não há valores nulos em nossa tabela e verificar os tipos dos dados de cada tabela. Utilizaremos apenas os dados de tipo numérico para realizarmos a previsão."
   ]
  },
  {
   "cell_type": "code",
   "execution_count": 10,
   "metadata": {},
   "outputs": [
    {
     "name": "stdout",
     "output_type": "stream",
     "text": [
      "<class 'pandas.core.frame.DataFrame'>\n",
      "Int64Index: 66957 entries, 678 to 130439\n",
      "Data columns (total 8 columns):\n",
      " #   Column            Non-Null Count  Dtype  \n",
      "---  ------            --------------  -----  \n",
      " 0   data              66957 non-null  object \n",
      " 1   hora              66957 non-null  object \n",
      " 2   chuva-taio        66957 non-null  float64\n",
      " 3   nivel-taio        66957 non-null  float64\n",
      " 4   chuva-ituporanga  66957 non-null  float64\n",
      " 5   nivel-ituporanga  66957 non-null  float64\n",
      " 6   chuva-rio_do_sul  66957 non-null  float64\n",
      " 7   nivel-rio_do_sul  66957 non-null  float64\n",
      "dtypes: float64(6), object(2)\n",
      "memory usage: 4.6+ MB\n"
     ]
    }
   ],
   "source": [
    "df.info()"
   ]
  },
  {
   "cell_type": "markdown",
   "metadata": {},
   "source": [
    "Utilizamos o método corr() para vizualizar a correlação entre as colunas do dataframe. Podemos ver que as colunas com maior relação com o nível do rio em Rio do Sul são o nível em Taió e Ituporanga."
   ]
  },
  {
   "cell_type": "code",
   "execution_count": 11,
   "metadata": {},
   "outputs": [
    {
     "data": {
      "text/html": [
       "<style  type=\"text/css\" >\n",
       "#T_6953f_row0_col0,#T_6953f_row1_col1,#T_6953f_row2_col2,#T_6953f_row3_col3,#T_6953f_row4_col4,#T_6953f_row5_col5{\n",
       "            background-color:  #b40426;\n",
       "            color:  #f1f1f1;\n",
       "        }#T_6953f_row0_col1,#T_6953f_row0_col3,#T_6953f_row0_col5,#T_6953f_row1_col2,#T_6953f_row1_col4,#T_6953f_row5_col0,#T_6953f_row5_col2,#T_6953f_row5_col4{\n",
       "            background-color:  #3b4cc0;\n",
       "            color:  #f1f1f1;\n",
       "        }#T_6953f_row0_col2{\n",
       "            background-color:  #6180e9;\n",
       "            color:  #000000;\n",
       "        }#T_6953f_row0_col4{\n",
       "            background-color:  #6c8ff1;\n",
       "            color:  #000000;\n",
       "        }#T_6953f_row1_col0{\n",
       "            background-color:  #3c4ec2;\n",
       "            color:  #f1f1f1;\n",
       "        }#T_6953f_row1_col3,#T_6953f_row3_col1{\n",
       "            background-color:  #ec7f63;\n",
       "            color:  #000000;\n",
       "        }#T_6953f_row1_col5{\n",
       "            background-color:  #c73635;\n",
       "            color:  #f1f1f1;\n",
       "        }#T_6953f_row2_col0{\n",
       "            background-color:  #6788ee;\n",
       "            color:  #000000;\n",
       "        }#T_6953f_row2_col1,#T_6953f_row3_col0,#T_6953f_row3_col4{\n",
       "            background-color:  #3e51c5;\n",
       "            color:  #f1f1f1;\n",
       "        }#T_6953f_row2_col3,#T_6953f_row2_col5{\n",
       "            background-color:  #4055c8;\n",
       "            color:  #f1f1f1;\n",
       "        }#T_6953f_row2_col4{\n",
       "            background-color:  #7ea1fa;\n",
       "            color:  #000000;\n",
       "        }#T_6953f_row3_col2{\n",
       "            background-color:  #3f53c6;\n",
       "            color:  #f1f1f1;\n",
       "        }#T_6953f_row3_col5,#T_6953f_row5_col3{\n",
       "            background-color:  #d85646;\n",
       "            color:  #000000;\n",
       "        }#T_6953f_row4_col0{\n",
       "            background-color:  #799cf8;\n",
       "            color:  #000000;\n",
       "        }#T_6953f_row4_col1{\n",
       "            background-color:  #445acc;\n",
       "            color:  #f1f1f1;\n",
       "        }#T_6953f_row4_col2{\n",
       "            background-color:  #84a7fc;\n",
       "            color:  #000000;\n",
       "        }#T_6953f_row4_col3,#T_6953f_row4_col5{\n",
       "            background-color:  #465ecf;\n",
       "            color:  #f1f1f1;\n",
       "        }#T_6953f_row5_col1{\n",
       "            background-color:  #c83836;\n",
       "            color:  #f1f1f1;\n",
       "        }</style><table id=\"T_6953f_\" ><thead>    <tr>        <th class=\"blank level0\" ></th>        <th class=\"col_heading level0 col0\" >chuva-taio</th>        <th class=\"col_heading level0 col1\" >nivel-taio</th>        <th class=\"col_heading level0 col2\" >chuva-ituporanga</th>        <th class=\"col_heading level0 col3\" >nivel-ituporanga</th>        <th class=\"col_heading level0 col4\" >chuva-rio_do_sul</th>        <th class=\"col_heading level0 col5\" >nivel-rio_do_sul</th>    </tr></thead><tbody>\n",
       "                <tr>\n",
       "                        <th id=\"T_6953f_level0_row0\" class=\"row_heading level0 row0\" >chuva-taio</th>\n",
       "                        <td id=\"T_6953f_row0_col0\" class=\"data row0 col0\" >1.00</td>\n",
       "                        <td id=\"T_6953f_row0_col1\" class=\"data row0 col1\" >0.01</td>\n",
       "                        <td id=\"T_6953f_row0_col2\" class=\"data row0 col2\" >0.14</td>\n",
       "                        <td id=\"T_6953f_row0_col3\" class=\"data row0 col3\" >0.01</td>\n",
       "                        <td id=\"T_6953f_row0_col4\" class=\"data row0 col4\" >0.19</td>\n",
       "                        <td id=\"T_6953f_row0_col5\" class=\"data row0 col5\" >-0.00</td>\n",
       "            </tr>\n",
       "            <tr>\n",
       "                        <th id=\"T_6953f_level0_row1\" class=\"row_heading level0 row1\" >nivel-taio</th>\n",
       "                        <td id=\"T_6953f_row1_col0\" class=\"data row1 col0\" >0.01</td>\n",
       "                        <td id=\"T_6953f_row1_col1\" class=\"data row1 col1\" >1.00</td>\n",
       "                        <td id=\"T_6953f_row1_col2\" class=\"data row1 col2\" >0.02</td>\n",
       "                        <td id=\"T_6953f_row1_col3\" class=\"data row1 col3\" >0.81</td>\n",
       "                        <td id=\"T_6953f_row1_col4\" class=\"data row1 col4\" >0.04</td>\n",
       "                        <td id=\"T_6953f_row1_col5\" class=\"data row1 col5\" >0.95</td>\n",
       "            </tr>\n",
       "            <tr>\n",
       "                        <th id=\"T_6953f_level0_row2\" class=\"row_heading level0 row2\" >chuva-ituporanga</th>\n",
       "                        <td id=\"T_6953f_row2_col0\" class=\"data row2 col0\" >0.14</td>\n",
       "                        <td id=\"T_6953f_row2_col1\" class=\"data row2 col1\" >0.02</td>\n",
       "                        <td id=\"T_6953f_row2_col2\" class=\"data row2 col2\" >1.00</td>\n",
       "                        <td id=\"T_6953f_row2_col3\" class=\"data row2 col3\" >0.04</td>\n",
       "                        <td id=\"T_6953f_row2_col4\" class=\"data row2 col4\" >0.24</td>\n",
       "                        <td id=\"T_6953f_row2_col5\" class=\"data row2 col5\" >0.02</td>\n",
       "            </tr>\n",
       "            <tr>\n",
       "                        <th id=\"T_6953f_level0_row3\" class=\"row_heading level0 row3\" >nivel-ituporanga</th>\n",
       "                        <td id=\"T_6953f_row3_col0\" class=\"data row3 col0\" >0.01</td>\n",
       "                        <td id=\"T_6953f_row3_col1\" class=\"data row3 col1\" >0.81</td>\n",
       "                        <td id=\"T_6953f_row3_col2\" class=\"data row3 col2\" >0.04</td>\n",
       "                        <td id=\"T_6953f_row3_col3\" class=\"data row3 col3\" >1.00</td>\n",
       "                        <td id=\"T_6953f_row3_col4\" class=\"data row3 col4\" >0.05</td>\n",
       "                        <td id=\"T_6953f_row3_col5\" class=\"data row3 col5\" >0.89</td>\n",
       "            </tr>\n",
       "            <tr>\n",
       "                        <th id=\"T_6953f_level0_row4\" class=\"row_heading level0 row4\" >chuva-rio_do_sul</th>\n",
       "                        <td id=\"T_6953f_row4_col0\" class=\"data row4 col0\" >0.19</td>\n",
       "                        <td id=\"T_6953f_row4_col1\" class=\"data row4 col1\" >0.04</td>\n",
       "                        <td id=\"T_6953f_row4_col2\" class=\"data row4 col2\" >0.24</td>\n",
       "                        <td id=\"T_6953f_row4_col3\" class=\"data row4 col3\" >0.05</td>\n",
       "                        <td id=\"T_6953f_row4_col4\" class=\"data row4 col4\" >1.00</td>\n",
       "                        <td id=\"T_6953f_row4_col5\" class=\"data row4 col5\" >0.04</td>\n",
       "            </tr>\n",
       "            <tr>\n",
       "                        <th id=\"T_6953f_level0_row5\" class=\"row_heading level0 row5\" >nivel-rio_do_sul</th>\n",
       "                        <td id=\"T_6953f_row5_col0\" class=\"data row5 col0\" >-0.00</td>\n",
       "                        <td id=\"T_6953f_row5_col1\" class=\"data row5 col1\" >0.95</td>\n",
       "                        <td id=\"T_6953f_row5_col2\" class=\"data row5 col2\" >0.02</td>\n",
       "                        <td id=\"T_6953f_row5_col3\" class=\"data row5 col3\" >0.89</td>\n",
       "                        <td id=\"T_6953f_row5_col4\" class=\"data row5 col4\" >0.04</td>\n",
       "                        <td id=\"T_6953f_row5_col5\" class=\"data row5 col5\" >1.00</td>\n",
       "            </tr>\n",
       "    </tbody></table>"
      ],
      "text/plain": [
       "<pandas.io.formats.style.Styler at 0x7f29ff41e3d0>"
      ]
     },
     "execution_count": 11,
     "metadata": {},
     "output_type": "execute_result"
    }
   ],
   "source": [
    "corr = df.corr()\n",
    "corr.style.background_gradient(cmap='coolwarm').set_precision(2)"
   ]
  },
  {
   "cell_type": "markdown",
   "metadata": {},
   "source": [
    "#### Etapa 2 - Previsão:\n",
    "\n",
    "Primeiramente separamos as colunas nos dataframes x e y, onde x conterá colunas do utilizadas para realizar a previsão e y a coluna que será prevista. Depois separamos os dados em dados de teste e de treino, utilizando a função train_test_split() presente no SciKitLearn. Os dados de treino serão utilizados para treinar o algoritmo de previsão, e os de teste para testar a precisão da previsão dos dados.  "
   ]
  },
  {
   "cell_type": "code",
   "execution_count": 12,
   "metadata": {},
   "outputs": [],
   "source": [
    "x = df[['chuva-taio', 'nivel-taio', 'chuva-ituporanga', 'nivel-ituporanga', 'chuva-rio_do_sul']]\n",
    "y = df[['nivel-rio_do_sul']]\n",
    "\n",
    "x_train, x_test, y_train, y_test = train_test_split(x, y, train_size = 0.8, test_size = 0.2)"
   ]
  },
  {
   "cell_type": "markdown",
   "metadata": {},
   "source": [
    "Instanciamos a classe LinearRegression do SciKitLearn e passamos os dados em X e Y de treino para ela."
   ]
  },
  {
   "cell_type": "code",
   "execution_count": 13,
   "metadata": {},
   "outputs": [
    {
     "data": {
      "text/html": [
       "<style>#sk-container-id-1 {color: black;background-color: white;}#sk-container-id-1 pre{padding: 0;}#sk-container-id-1 div.sk-toggleable {background-color: white;}#sk-container-id-1 label.sk-toggleable__label {cursor: pointer;display: block;width: 100%;margin-bottom: 0;padding: 0.3em;box-sizing: border-box;text-align: center;}#sk-container-id-1 label.sk-toggleable__label-arrow:before {content: \"▸\";float: left;margin-right: 0.25em;color: #696969;}#sk-container-id-1 label.sk-toggleable__label-arrow:hover:before {color: black;}#sk-container-id-1 div.sk-estimator:hover label.sk-toggleable__label-arrow:before {color: black;}#sk-container-id-1 div.sk-toggleable__content {max-height: 0;max-width: 0;overflow: hidden;text-align: left;background-color: #f0f8ff;}#sk-container-id-1 div.sk-toggleable__content pre {margin: 0.2em;color: black;border-radius: 0.25em;background-color: #f0f8ff;}#sk-container-id-1 input.sk-toggleable__control:checked~div.sk-toggleable__content {max-height: 200px;max-width: 100%;overflow: auto;}#sk-container-id-1 input.sk-toggleable__control:checked~label.sk-toggleable__label-arrow:before {content: \"▾\";}#sk-container-id-1 div.sk-estimator input.sk-toggleable__control:checked~label.sk-toggleable__label {background-color: #d4ebff;}#sk-container-id-1 div.sk-label input.sk-toggleable__control:checked~label.sk-toggleable__label {background-color: #d4ebff;}#sk-container-id-1 input.sk-hidden--visually {border: 0;clip: rect(1px 1px 1px 1px);clip: rect(1px, 1px, 1px, 1px);height: 1px;margin: -1px;overflow: hidden;padding: 0;position: absolute;width: 1px;}#sk-container-id-1 div.sk-estimator {font-family: monospace;background-color: #f0f8ff;border: 1px dotted black;border-radius: 0.25em;box-sizing: border-box;margin-bottom: 0.5em;}#sk-container-id-1 div.sk-estimator:hover {background-color: #d4ebff;}#sk-container-id-1 div.sk-parallel-item::after {content: \"\";width: 100%;border-bottom: 1px solid gray;flex-grow: 1;}#sk-container-id-1 div.sk-label:hover label.sk-toggleable__label {background-color: #d4ebff;}#sk-container-id-1 div.sk-serial::before {content: \"\";position: absolute;border-left: 1px solid gray;box-sizing: border-box;top: 0;bottom: 0;left: 50%;z-index: 0;}#sk-container-id-1 div.sk-serial {display: flex;flex-direction: column;align-items: center;background-color: white;padding-right: 0.2em;padding-left: 0.2em;position: relative;}#sk-container-id-1 div.sk-item {position: relative;z-index: 1;}#sk-container-id-1 div.sk-parallel {display: flex;align-items: stretch;justify-content: center;background-color: white;position: relative;}#sk-container-id-1 div.sk-item::before, #sk-container-id-1 div.sk-parallel-item::before {content: \"\";position: absolute;border-left: 1px solid gray;box-sizing: border-box;top: 0;bottom: 0;left: 50%;z-index: -1;}#sk-container-id-1 div.sk-parallel-item {display: flex;flex-direction: column;z-index: 1;position: relative;background-color: white;}#sk-container-id-1 div.sk-parallel-item:first-child::after {align-self: flex-end;width: 50%;}#sk-container-id-1 div.sk-parallel-item:last-child::after {align-self: flex-start;width: 50%;}#sk-container-id-1 div.sk-parallel-item:only-child::after {width: 0;}#sk-container-id-1 div.sk-dashed-wrapped {border: 1px dashed gray;margin: 0 0.4em 0.5em 0.4em;box-sizing: border-box;padding-bottom: 0.4em;background-color: white;}#sk-container-id-1 div.sk-label label {font-family: monospace;font-weight: bold;display: inline-block;line-height: 1.2em;}#sk-container-id-1 div.sk-label-container {text-align: center;}#sk-container-id-1 div.sk-container {/* jupyter's `normalize.less` sets `[hidden] { display: none; }` but bootstrap.min.css set `[hidden] { display: none !important; }` so we also need the `!important` here to be able to override the default hidden behavior on the sphinx rendered scikit-learn.org. See: https://github.com/scikit-learn/scikit-learn/issues/21755 */display: inline-block !important;position: relative;}#sk-container-id-1 div.sk-text-repr-fallback {display: none;}</style><div id=\"sk-container-id-1\" class=\"sk-top-container\"><div class=\"sk-text-repr-fallback\"><pre>LinearRegression()</pre><b>In a Jupyter environment, please rerun this cell to show the HTML representation or trust the notebook. <br />On GitHub, the HTML representation is unable to render, please try loading this page with nbviewer.org.</b></div><div class=\"sk-container\" hidden><div class=\"sk-item\"><div class=\"sk-estimator sk-toggleable\"><input class=\"sk-toggleable__control sk-hidden--visually\" id=\"sk-estimator-id-1\" type=\"checkbox\" checked><label for=\"sk-estimator-id-1\" class=\"sk-toggleable__label sk-toggleable__label-arrow\">LinearRegression</label><div class=\"sk-toggleable__content\"><pre>LinearRegression()</pre></div></div></div></div></div>"
      ],
      "text/plain": [
       "LinearRegression()"
      ]
     },
     "execution_count": 13,
     "metadata": {},
     "output_type": "execute_result"
    }
   ],
   "source": [
    "multiple_reg = LinearRegression()\n",
    "multiple_reg.fit(x_train, y_train)"
   ]
  },
  {
   "cell_type": "markdown",
   "metadata": {},
   "source": [
    "Utilizamos então os dados de x_test para tentar prever seus respectivos y."
   ]
  },
  {
   "cell_type": "code",
   "execution_count": 14,
   "metadata": {},
   "outputs": [],
   "source": [
    "y_prediction = multiple_reg.predict(x_test)"
   ]
  },
  {
   "cell_type": "markdown",
   "metadata": {},
   "source": [
    "Comparando os dados de y reais com os obtidos na previsão, temos um R^2 ajustado de 0.94."
   ]
  },
  {
   "cell_type": "code",
   "execution_count": 15,
   "metadata": {},
   "outputs": [
    {
     "name": "stdout",
     "output_type": "stream",
     "text": [
      "0.937003225867312\n"
     ]
    }
   ],
   "source": [
    "adj_r2 = (1 - ((1 - r2_score(y_test, y_prediction)) * (len(y_test) - 1)) / \n",
    "          (len(y_test) - x_train.shape[1] - 1))\n",
    "print(adj_r2)"
   ]
  },
  {
   "cell_type": "markdown",
   "metadata": {},
   "source": [
    "Obervando os coeficientes podemos ver que a variável com maior impacto positivo é o nível do rio em Ituporanga, e a com maior impacto negativo é a quantidade de chuva em Taió."
   ]
  },
  {
   "cell_type": "code",
   "execution_count": 16,
   "metadata": {},
   "outputs": [
    {
     "data": {
      "text/plain": [
       "array([[-2.29247397,  0.53685403, -0.33113115,  1.1728746 , -0.40256234]])"
      ]
     },
     "execution_count": 16,
     "metadata": {},
     "output_type": "execute_result"
    }
   ],
   "source": [
    "multiple_reg.coef_"
   ]
  },
  {
   "cell_type": "markdown",
   "metadata": {},
   "source": [
    "Plotando os dados previstos com os reais podemos observar que as previsões foram bem precisas, com poucos outliers."
   ]
  },
  {
   "cell_type": "code",
   "execution_count": 17,
   "metadata": {},
   "outputs": [
    {
     "data": {
      "image/png": "[encoded data removed]",
      "text/plain": [
       "<Figure size 432x288 with 1 Axes>"
      ]
     },
     "metadata": {
      "needs_background": "light"
     },
     "output_type": "display_data"
    }
   ],
   "source": [
    "plt.scatter(y_test, y_prediction, c = 'b',  s = 50, alpha = 0.5)\n",
    "\n",
    "plt.xlabel(\"Actual Level (cm)\")\n",
    "plt.ylabel(\"Predicted Level (cm)\")\n",
    "plt.title(\"Predicted Level vs Actual Level\")\n",
    "\n",
    "plt.show()"
   ]
  },
  {
   "cell_type": "markdown",
   "metadata": {},
   "source": [
    "O erro percentual absoluto médio obtido neste modelo foi de apenas 8.4%."
   ]
  },
  {
   "cell_type": "code",
   "execution_count": 21,
   "metadata": {},
   "outputs": [
    {
     "name": "stdout",
     "output_type": "stream",
     "text": [
      "8.84%\n"
     ]
    }
   ],
   "source": [
    "MAPE = np.mean(np.abs((y_test - y_prediction) / y_test)) * 100\n",
    "print(\"%.2f\" %MAPE+\"%\")"
   ]
  }
 ],
 "metadata": {
  "interpreter": {
   "hash": "916dbcbb3f70747c44a77c7bcd40155683ae19c65e1c03b4aa3499c5328201f1"
  },
  "kernelspec": {
   "display_name": "Python 3.8.10 64-bit",
   "language": "python",
   "name": "python3"
  },
  "language_info": {
   "codemirror_mode": {
    "name": "ipython",
    "version": 3
   },
   "file_extension": ".py",
   "mimetype": "text/x-python",
   "name": "python",
   "nbconvert_exporter": "python",
   "pygments_lexer": "ipython3",
   "version": "3.8.10"
  },
  "orig_nbformat": 4
 },
 "nbformat": 4,
 "nbformat_minor": 2
}
